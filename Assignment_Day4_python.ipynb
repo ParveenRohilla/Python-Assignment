{
 "cells": [
  {
   "cell_type": "markdown",
   "metadata": {},
   "source": [
    "# Assignment Day 4 | 12th December 2020\n",
    "\n",
    "## Parveen Kumar Rohilla"
   ]
  },
  {
   "cell_type": "markdown",
   "metadata": {},
   "source": [
    "## Question 1\n",
    "\n",
    "Write down a program in Python for Opening a File and Writing \" I Love LetsUpgrade\" And close\n",
    "it, and read it back again, and then append some data to it and close it."
   ]
  },
  {
   "cell_type": "code",
   "execution_count": 1,
   "metadata": {},
   "outputs": [
    {
     "name": "stdout",
     "output_type": "stream",
     "text": [
      "I Love LetsUpgrade\n",
      "This is my Day-4 assignment\n",
      "\n",
      "I Love LetsUpgrade\n",
      "This is my Day-4 assignment\n",
      "We have Updated this !!\n"
     ]
    }
   ],
   "source": [
    "xyz = open(\"HEY.txt\",'w')\n",
    "\n",
    "xyz.write(\"I Love LetsUpgrade\\n\")\n",
    "\n",
    "xyz.close()\n",
    "\n",
    "xyz = open(\"HEY.txt\",'a')\n",
    "\n",
    "xyz.write(\"This is my Day-4 assignment\\n\")\n",
    "\n",
    "xyz.close()\n",
    "\n",
    "xyz = open(\"HEY.txt\",'r+')\n",
    "\n",
    "print(xyz.read())\n",
    "\n",
    "xyz.write(\"We have Updated this !!\")\n",
    "\n",
    "xyz.close()\n",
    "\n",
    "xyz = open(\"HEY.txt\",'r')\n",
    "\n",
    "print(xyz.read())\n",
    "\n",
    "xyz.close()"
   ]
  },
  {
   "cell_type": "markdown",
   "metadata": {},
   "source": [
    "## Question 2\n",
    "\n",
    "Write a function which can return a Factorial of any numbers as INT, given in the argument."
   ]
  },
  {
   "cell_type": "code",
   "execution_count": 2,
   "metadata": {},
   "outputs": [
    {
     "name": "stdout",
     "output_type": "stream",
     "text": [
      "Input a number to compute the factiorial : 5\n",
      "120\n"
     ]
    }
   ],
   "source": [
    "def factorial(n):\n",
    "    if n == 0:\n",
    "       return 1\n",
    "    else:\n",
    "       return n * factorial(n-1)\n",
    "n=int(input(\"Input a number to compute the factiorial : \"))\n",
    "print(factorial(n))"
   ]
  },
  {
   "cell_type": "code",
   "execution_count": null,
   "metadata": {},
   "outputs": [],
   "source": []
  }
 ],
 "metadata": {
  "kernelspec": {
   "display_name": "Python 3",
   "language": "python",
   "name": "python3"
  },
  "language_info": {
   "codemirror_mode": {
    "name": "ipython",
    "version": 3
   },
   "file_extension": ".py",
   "mimetype": "text/x-python",
   "name": "python",
   "nbconvert_exporter": "python",
   "pygments_lexer": "ipython3",
   "version": "3.8.3"
  }
 },
 "nbformat": 4,
 "nbformat_minor": 4
}
