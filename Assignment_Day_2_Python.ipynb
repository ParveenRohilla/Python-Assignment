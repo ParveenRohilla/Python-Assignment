{
 "cells": [
  {
   "cell_type": "markdown",
   "metadata": {},
   "source": [
    "# Assignment Day 2 | 9th December 2020\n",
    "## Parveen Kumar Rohilla"
   ]
  },
  {
   "cell_type": "markdown",
   "metadata": {},
   "source": [
    "## Question 1\n",
    "\n",
    "### 5 Different functions of the String in Python."
   ]
  },
  {
   "cell_type": "code",
   "execution_count": 1,
   "metadata": {},
   "outputs": [
    {
     "name": "stdout",
     "output_type": "stream",
     "text": [
      "PARVEEN\n"
     ]
    }
   ],
   "source": [
    "# Example-1 upper fuction convert the string in upper case.\n",
    "name = 'parveen'\n",
    "print(name.upper())"
   ]
  },
  {
   "cell_type": "code",
   "execution_count": 2,
   "metadata": {},
   "outputs": [
    {
     "name": "stdout",
     "output_type": "stream",
     "text": [
      "parveen\n"
     ]
    }
   ],
   "source": [
    "# Example--2 lower fuction convert the string in upper case.\n",
    "name = 'PARVEEN'\n",
    "name = name.lower()\n",
    "print(name)"
   ]
  },
  {
   "cell_type": "code",
   "execution_count": 3,
   "metadata": {},
   "outputs": [
    {
     "name": "stdout",
     "output_type": "stream",
     "text": [
      "Parveen\n"
     ]
    }
   ],
   "source": [
    "# Example-3 Capitalize fuction conver the first letter of string to Capital.\n",
    "name = 'parveen'\n",
    "print(name.capitalize())"
   ]
  },
  {
   "cell_type": "code",
   "execution_count": 4,
   "metadata": {},
   "outputs": [
    {
     "name": "stdout",
     "output_type": "stream",
     "text": [
      "I like Blue color\n",
      "I like Green color\n"
     ]
    }
   ],
   "source": [
    "# Example-4 Replace function replace the existing string with newone\n",
    "mycolor = 'I like Green color'\n",
    "print(mycolor.replace('Green', 'Blue'))\n",
    "print(mycolor)"
   ]
  },
  {
   "cell_type": "code",
   "execution_count": 5,
   "metadata": {},
   "outputs": [
    {
     "name": "stdout",
     "output_type": "stream",
     "text": [
      "True\n",
      "False\n"
     ]
    }
   ],
   "source": [
    "# Example-5 Chieck the string is alpha numeric and produe a boolean answer.\n",
    "name = 'parveen'\n",
    "print(name.isalpha())\n",
    "\n",
    "name = '12345678'\n",
    "print(name.isalpha())"
   ]
  },
  {
   "cell_type": "markdown",
   "metadata": {},
   "source": [
    "## Question 2\n",
    "\n",
    "### 5 Different functions of the List object in Python"
   ]
  },
  {
   "cell_type": "code",
   "execution_count": 6,
   "metadata": {},
   "outputs": [
    {
     "name": "stdout",
     "output_type": "stream",
     "text": [
      "[]\n"
     ]
    }
   ],
   "source": [
    "# Example-1 clear function\n",
    "mylst = [12,24,36,48,60,72]\n",
    "mylst.clear()\n",
    "print(mylst)"
   ]
  },
  {
   "cell_type": "code",
   "execution_count": 7,
   "metadata": {},
   "outputs": [
    {
     "name": "stdout",
     "output_type": "stream",
     "text": [
      "[12, 24, 36, 48, 60, 72]\n",
      "72\n",
      "[12, 24, 36, 48, 60]\n"
     ]
    }
   ],
   "source": [
    "# Example-2 pop function\n",
    "mylst = [12,24,36,48,60,72]\n",
    "print(mylst)\n",
    "\n",
    "print(mylst.pop(5))\n",
    "print(mylst)"
   ]
  },
  {
   "cell_type": "code",
   "execution_count": 8,
   "metadata": {},
   "outputs": [
    {
     "name": "stdout",
     "output_type": "stream",
     "text": [
      "[12, 24, 36, 48, 60, 72]\n",
      "[12, 24, 48, 60, 72]\n"
     ]
    }
   ],
   "source": [
    "# Example-3 remove function\n",
    "mylst = [12,24,36,48,60,72]\n",
    "print(mylst)\n",
    "\n",
    "mylst.remove(36)\n",
    "print(mylst)"
   ]
  },
  {
   "cell_type": "code",
   "execution_count": 9,
   "metadata": {},
   "outputs": [
    {
     "name": "stdout",
     "output_type": "stream",
     "text": [
      "[12, 24, 36, 90, 100, 48, 60, 72]\n",
      "[12, 24, 36, 48, 60, 72, 90, 100]\n"
     ]
    }
   ],
   "source": [
    "# Example-4 sort function\n",
    "mylst = [12,24,36,90,100,48,60,72]\n",
    "print(mylst)\n",
    "mylst.sort()\n",
    "print(mylst)"
   ]
  },
  {
   "cell_type": "code",
   "execution_count": 10,
   "metadata": {},
   "outputs": [
    {
     "name": "stdout",
     "output_type": "stream",
     "text": [
      "[12, 24, 36, 90, 24, 100, 48, 60, 72, 24]\n",
      "[12, 24, 24, 24, 36, 48, 60, 72, 90, 100]\n"
     ]
    }
   ],
   "source": [
    "# Example-5 sorted function\n",
    "mylst = [12,24,36,90,24,100,48,60,72,24]\n",
    "print(mylst)\n",
    "print(sorted(mylst)) # does not modify list, just sorted and return the data."
   ]
  },
  {
   "cell_type": "markdown",
   "metadata": {},
   "source": [
    "## Question 3\n",
    "\n",
    "### Experiment with at least 5 default functions of Dictionary\n"
   ]
  },
  {
   "cell_type": "code",
   "execution_count": 12,
   "metadata": {},
   "outputs": [
    {
     "name": "stdout",
     "output_type": "stream",
     "text": [
      "{}\n"
     ]
    }
   ],
   "source": [
    "# Example-1 Clear function clear the output of a dictionay\n",
    "dict01 = {\n",
    "  \"brand\": \"Ford\",\n",
    "  \"model\": \"Mustang\",\n",
    "  \"year\": 1964\n",
    "}\n",
    "\n",
    "dict01.clear()\n",
    "\n",
    "print(dict01)"
   ]
  },
  {
   "cell_type": "code",
   "execution_count": 13,
   "metadata": {},
   "outputs": [
    {
     "name": "stdout",
     "output_type": "stream",
     "text": [
      "{'brand': 'Ford', 'model': 'Mustang', 'year': 1964, 'color': 'White'}\n"
     ]
    }
   ],
   "source": [
    "# Example-2 update function use to add new key:value \n",
    "dict01 = {\n",
    "  \"brand\": \"Ford\",\n",
    "  \"model\": \"Mustang\",\n",
    "  \"year\": 1964\n",
    "}\n",
    "\n",
    "dict01.update({\"color\": \"White\"})\n",
    "\n",
    "print(dict01)"
   ]
  },
  {
   "cell_type": "code",
   "execution_count": 14,
   "metadata": {},
   "outputs": [
    {
     "name": "stdout",
     "output_type": "stream",
     "text": [
      "{'brand': 'Ford', 'year': 1964}\n"
     ]
    }
   ],
   "source": [
    "# Example-3 Pop function use to remove key:value from dictionay\n",
    "dict01 = {\n",
    "  \"brand\": \"Ford\",\n",
    "  \"model\": \"Mustang\",\n",
    "  \"year\": 1964\n",
    "}\n",
    "\n",
    "dict01.pop(\"model\")\n",
    "\n",
    "print(dict01)"
   ]
  },
  {
   "cell_type": "code",
   "execution_count": 15,
   "metadata": {},
   "outputs": [
    {
     "name": "stdout",
     "output_type": "stream",
     "text": [
      "Mustang\n"
     ]
    }
   ],
   "source": [
    "# Example-4 get function use to get the key or value\n",
    "dict01 = {\n",
    "  \"brand\": \"Ford\",\n",
    "  \"model\": \"Mustang\",\n",
    "  \"year\": 1964\n",
    "}\n",
    "\n",
    "mymodel = dict01.get(\"model\")\n",
    "\n",
    "print(mymodel)"
   ]
  },
  {
   "cell_type": "code",
   "execution_count": 16,
   "metadata": {},
   "outputs": [
    {
     "name": "stdout",
     "output_type": "stream",
     "text": [
      "dict_keys(['brand', 'model', 'year'])\n"
     ]
    }
   ],
   "source": [
    "# Example-4 key function is use to diplay the key in the output\n",
    "dict01 = {\n",
    "  \"brand\": \"Ford\",\n",
    "  \"model\": \"Mustang\",\n",
    "  \"year\": 1964\n",
    "}\n",
    "\n",
    "mykey = dict01.keys()\n",
    "\n",
    "print(mykey)"
   ]
  },
  {
   "cell_type": "code",
   "execution_count": null,
   "metadata": {},
   "outputs": [],
   "source": []
  }
 ],
 "metadata": {
  "kernelspec": {
   "display_name": "Python 3",
   "language": "python",
   "name": "python3"
  },
  "language_info": {
   "codemirror_mode": {
    "name": "ipython",
    "version": 3
   },
   "file_extension": ".py",
   "mimetype": "text/x-python",
   "name": "python",
   "nbconvert_exporter": "python",
   "pygments_lexer": "ipython3",
   "version": "3.8.3"
  }
 },
 "nbformat": 4,
 "nbformat_minor": 4
}
